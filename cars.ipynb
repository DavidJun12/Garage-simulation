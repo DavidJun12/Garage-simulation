{
 "cells": [
  {
   "cell_type": "code",
   "execution_count": 80,
   "metadata": {},
   "outputs": [
    {
     "name": "stdout",
     "output_type": "stream",
     "text": [
      "0.2\n"
     ]
    }
   ],
   "source": [
    "import random\n",
    "\n",
    "# Generate a random floating-point number between 0 and 1 (inclusive) and format it to one decimal point\n",
    "random_number = f\"{random.uniform(0, 1):.1f}\"\n",
    "\n",
    "print(random_number)\n"
   ]
  },
  {
   "cell_type": "code",
   "execution_count": 97,
   "metadata": {},
   "outputs": [],
   "source": [
    "import tkinter as tk\n",
    "\n",
    "def draw_tire(canvas, x, y, radius):\n",
    "    # Draw the outer circle of the tire\n",
    "    canvas.create_oval(x - radius, y - radius, x + radius, y + radius, outline=\"black\", width=2, fill=\"black\")\n",
    "    # Draw the inner circle of the tire\n",
    "    inner_radius = radius * 0.6\n",
    "    canvas.create_oval(x - inner_radius, y - inner_radius, x + inner_radius, y + inner_radius, fill=\"white\")\n",
    "\n",
    "# Create a Tkinter window\n",
    "root = tk.Tk()\n",
    "root.title(\"Car Tire\")\n",
    "\n",
    "# Create a canvas\n",
    "canvas = tk.Canvas(root, width=200, height=200)\n",
    "canvas.pack()\n",
    "\n",
    "# Draw a car tire at position (100, 100) with a radius of 50 pixels\n",
    "draw_tire(canvas, 100, 100, 30)\n",
    "\n",
    "# Run the Tkinter event loop\n",
    "root.mainloop()\n"
   ]
  },
  {
   "cell_type": "code",
   "execution_count": 100,
   "metadata": {},
   "outputs": [
    {
     "name": "stdout",
     "output_type": "stream",
     "text": [
      "0.3\n"
     ]
    }
   ],
   "source": [
    "import random\n",
    "\n",
    "# Generate a random floating-point number between 0 and 1 (inclusive)\n",
    "random_number = random.uniform(0, 1)\n",
    "\n",
    "# Format the random number to one decimal point using f-string\n",
    "formatted_number = f\"{random_number:.1f}\"\n",
    "\n",
    "print(formatted_number)\n"
   ]
  },
  {
   "cell_type": "code",
   "execution_count": 108,
   "metadata": {},
   "outputs": [
    {
     "ename": "TypeError",
     "evalue": "can only concatenate str (not \"int\") to str",
     "output_type": "error",
     "traceback": [
      "\u001b[1;31m---------------------------------------------------------------------------\u001b[0m",
      "\u001b[1;31mTypeError\u001b[0m                                 Traceback (most recent call last)",
      "Cell \u001b[1;32mIn[108], line 3\u001b[0m\n\u001b[0;32m      1\u001b[0m random_number \u001b[38;5;241m=\u001b[39m \u001b[38;5;124m\"\u001b[39m\u001b[38;5;132;01m{:.1f}\u001b[39;00m\u001b[38;5;124m\"\u001b[39m\u001b[38;5;241m.\u001b[39mformat(random\u001b[38;5;241m.\u001b[39muniform(\u001b[38;5;241m0\u001b[39m,\u001b[38;5;241m1\u001b[39m))\n\u001b[1;32m----> 3\u001b[0m \u001b[38;5;28mprint\u001b[39m(\u001b[43mrandom_number\u001b[49m\u001b[38;5;241;43m+\u001b[39;49m\u001b[38;5;241;43m10\u001b[39;49m)\n",
      "\u001b[1;31mTypeError\u001b[0m: can only concatenate str (not \"int\") to str"
     ]
    }
   ],
   "source": [
    "random_number = \"{:.1f}\".format(random.uniform(0,1))\n",
    "\n",
    "SUM = random_number + 10\n",
    "print(SUM)"
   ]
  }
 ],
 "metadata": {
  "kernelspec": {
   "display_name": "Python 3",
   "language": "python",
   "name": "python3"
  },
  "language_info": {
   "codemirror_mode": {
    "name": "ipython",
    "version": 3
   },
   "file_extension": ".py",
   "mimetype": "text/x-python",
   "name": "python",
   "nbconvert_exporter": "python",
   "pygments_lexer": "ipython3",
   "version": "3.12.2"
  }
 },
 "nbformat": 4,
 "nbformat_minor": 2
}
